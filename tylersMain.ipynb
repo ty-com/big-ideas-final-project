{
 "cells": [
  {
   "cell_type": "code",
   "execution_count": 1,
   "metadata": {},
   "outputs": [],
   "source": [
    "import pandas as pd"
   ]
  },
  {
   "cell_type": "code",
   "execution_count": 2,
   "metadata": {},
   "outputs": [],
   "source": [
    "neighborhoods = pd.read_csv(\"Neighborhoods.csv\")\n",
    "hoodsdict = neighborhoods['hood'].value_counts().to_dict()\n",
    "neighborhoods.set_index('hood')\n",
    "\n",
    "fire = pd.read_csv(\"firearm-seizures.csv\")\n",
    "firedict = fire['neighborhood'].value_counts().to_dict()\n",
    "\n",
    "arrest = pd.read_csv(\"arrest-data.csv\")\n",
    "arrestdict = arrest['INCIDENTNEIGHBORHOOD'].value_counts().to_dict()\n",
    "\n",
    "policeblotter = pd.read_csv(\"police-blotter.csv\")\n",
    "policedict = policeblotter['INCIDENTNEIGHBORHOOD'].value_counts().to_dict()\n",
    "\n",
    "scores = hoodsdict\n",
    "\n",
    "#this section of for loops cleans the data to make sure all of the neighborhoods have the same name for every dataset\n",
    "for key in arrestdict:\n",
    "    if key.startswith('Mt. Oliver Neighborhood'):\n",
    "        arrestdict['Mt. Oliver'] = arrestdict.pop(key)\n",
    "        break\n",
    "        \n",
    "for key in arrestdict:\n",
    "    if key.startswith('Mount Oliver'):\n",
    "        arrestdict['Mt. Oliver'] = arrestdict['Mt. Oliver'] + arrestdict.pop(key)\n",
    "        break\n",
    "        \n",
    "for key in policedict:\n",
    "    if key.startswith('Mount Oliver'):\n",
    "        policedict['Mt. Oliver'] = policedict.pop(key)\n",
    "        \n",
    "for key in policedict:\n",
    "    if key.startswith('Central North Side'):\n",
    "        policedict['Central Northside'] = policedict.pop(key)\n",
    "\n",
    "#combines single neighborhoods that were separated into one neighborhood\n",
    "arrestdict['Troy Hill'] = arrestdict['Troy Hill'] + arrestdict.pop('Troy Hill-Herrs Island')\n",
    "arrestdict['Central Business District'] = arrestdict['Central Business District'] + arrestdict.pop('Golden Triangle/Civic Arena')"
   ]
  },
  {
   "cell_type": "code",
   "execution_count": 3,
   "metadata": {},
   "outputs": [
    {
     "data": {
      "text/plain": [
       "<matplotlib.axes._subplots.AxesSubplot at 0x7f5d925fb940>"
      ]
     },
     "execution_count": 3,
     "metadata": {},
     "output_type": "execute_result"
    }
   ],
   "source": [
    "policeScores = hoodsdict\n",
    "\n",
    "for key in policedict:\n",
    "    if key in policeScores:\n",
    "        policeScores[key] = policedict[key]\n",
    "        \n",
    "s = pd.Series(policeScores, name=\"Score\")\n",
    "s.index.name = \"Neighborhood\"\n",
    "s.sort_values().iloc[0:10].plot('bar', title = \"Number of Police Incidents\")"
   ]
  },
  {
   "cell_type": "code",
   "execution_count": 4,
   "metadata": {},
   "outputs": [
    {
     "data": {
      "text/plain": [
       "<matplotlib.axes._subplots.AxesSubplot at 0x7f5d9200e860>"
      ]
     },
     "execution_count": 4,
     "metadata": {},
     "output_type": "execute_result"
    },
    {
     "data": {
      "image/png": "[encoded data removed]",
      "text/plain": [
       "<Figure size 432x288 with 1 Axes>"
      ]
     },
     "metadata": {
      "needs_background": "light"
     },
     "output_type": "display_data"
    }
   ],
   "source": [
    "arrestScores = hoodsdict\n",
    "\n",
    "for key in arrestdict:\n",
    "    if key in arrestScores:\n",
    "        arrestScores[key] = arrestdict[key]\n",
    "        \n",
    "s = pd.Series(arrestScores, name=\"Score\")\n",
    "s.index.name = \"Neighborhood\"\n",
    "s.sort_values().iloc[0:10].plot('bar', title = 'Number of Arrests')"
   ]
  },
  {
   "cell_type": "code",
   "execution_count": 5,
   "metadata": {},
   "outputs": [
    {
     "data": {
      "text/plain": [
       "<matplotlib.axes._subplots.AxesSubplot at 0x7f5d91f94358>"
      ]
     },
     "execution_count": 5,
     "metadata": {},
     "output_type": "execute_result"
    },
    {
     "data": {
      "image/png": "[encoded data removed]",
      "text/plain": [
       "<Figure size 432x288 with 1 Axes>"
      ]
     },
     "metadata": {
      "needs_background": "light"
     },
     "output_type": "display_data"
    }
   ],
   "source": [
    "fireScores = hoodsdict\n",
    "\n",
    "for key in firedict:\n",
    "    if key in fireScores:\n",
    "        fireScores[key] = firedict[key]\n",
    "        \n",
    "s = pd.Series(fireScores, name=\"Score\")\n",
    "s.index.name = \"Neighborhood\"\n",
    "s.sort_values().iloc[0:10].plot('bar', title = \"Number of Firearm Seizures\")"
   ]
  },
  {
   "cell_type": "code",
   "execution_count": 6,
   "metadata": {},
   "outputs": [
    {
     "name": "stdout",
     "output_type": "stream",
     "text": [
      "Neighborhood\n",
      "Central Business District    2526\n",
      "South Side Flats             2230\n",
      "Carrick                      1506\n",
      "Homewood South               1341\n",
      "East Allegheny               1327\n",
      "Homewood North               1168\n",
      "East Liberty                 1130\n",
      "Marshall-Shadeland            997\n",
      "Mount Washington              976\n",
      "Bluff                         875\n",
      "Knoxville                     870\n",
      "Hazelwood                     820\n",
      "Brookline                     807\n",
      "Lincoln-Lemington-Belmar      802\n",
      "Sheraden                      787\n",
      "Beechview                     773\n",
      "Perry South                   752\n",
      "Brighton Heights              715\n",
      "Allegheny Center              703\n",
      "Shadyside                     670\n",
      "Middle Hill                   660\n",
      "East Hills                    659\n",
      "Allentown                     636\n",
      "Bloomfield                    630\n",
      "Larimer                       571\n",
      "Fineview                      548\n",
      "Crawford-Roberts              534\n",
      "North Shore                   520\n",
      "South Side Slopes             518\n",
      "Squirrel Hill South           515\n",
      "Spring Hill-City View         487\n",
      "Garfield                      482\n",
      "Homewood West                 460\n",
      "Perry North                   455\n",
      "Northview Heights             440\n",
      "Elliott                       405\n",
      "Bedford Dwellings             404\n",
      "Beltzhoover                   380\n",
      "Central Oakland               362\n",
      "Highland Park                 343\n",
      "Manchester                    335\n",
      "Central Lawrenceville         334\n",
      "Strip District                330\n",
      "Crafton Heights               327\n",
      "Greenfield                    319\n",
      "Troy Hill                     314\n",
      "Chateau                       313\n",
      "North Oakland                 264\n",
      "Upper Hill                    249\n",
      "Point Breeze                  225\n",
      "Squirrel Hill North           212\n",
      "West Oakland                  210\n",
      "South Oakland                 209\n",
      "Overbrook                     206\n",
      "Arlington                     204\n",
      "California-Kirkbride          188\n",
      "Terrace Village               179\n",
      "Spring Garden                 175\n",
      "Lower Lawrenceville           173\n",
      "South Shore                   173\n",
      "Point Breeze North            170\n",
      "Banksville                    170\n",
      "West End                      167\n",
      "Westwood                      146\n",
      "Upper Lawrenceville           140\n",
      "Bon Air                       139\n",
      "Stanton Heights               134\n",
      "Duquesne Heights              125\n",
      "Morningside                   125\n",
      "Friendship                    119\n",
      "Esplen                        115\n",
      "Polish Hill                   112\n",
      "Lincoln Place                 111\n",
      "Arlington Heights             111\n",
      "Central Northside             101\n",
      "Allegheny West                 98\n",
      "Mt. Oliver                     96\n",
      "Glen Hazel                     94\n",
      "Windgap                        72\n",
      "Fairywood                      70\n",
      "Hays                           67\n",
      "East Carnegie                  56\n",
      "Summer Hill                    52\n",
      "Oakwood                        49\n",
      "New Homestead                  47\n",
      "Swisshelm Park                 43\n",
      "St. Clair                      36\n",
      "Ridgemont                      29\n",
      "Chartiers City                 26\n",
      "Regent Square                  23\n"
     ]
    },
    {
     "data": {
      "image/png": "[encoded data removed]",
      "text/plain": [
       "<Figure size 432x288 with 1 Axes>"
      ]
     },
     "metadata": {
      "needs_background": "light"
     },
     "output_type": "display_data"
    }
   ],
   "source": [
    "for key in firedict:\n",
    "    if key in scores:\n",
    "        scores[key] = firedict[key]\n",
    "\n",
    "for key in arrestdict:\n",
    "    if key in scores:\n",
    "        scores[key] = scores[key] + arrestdict[key]\n",
    "\n",
    "for key in policedict:\n",
    "    if key in scores:\n",
    "        scores[key] = scores[key] + policedict[key]\n",
    "\n",
    "\n",
    "s = pd.Series(scores, name=\"Score\")\n",
    "s.index.name = \"Neighborhood\"\n",
    "s.sort_values().iloc[0:10].plot('bar', title = 'Safety')\n",
    "print(s.sort_values(ascending = False).to_string())"
   ]
  },
  {
   "cell_type": "code",
   "execution_count": 7,
   "metadata": {},
   "outputs": [
    {
     "name": "stdout",
     "output_type": "stream",
     "text": [
      "Neighborhood\n",
      "Central Business District    50.000000\n",
      "South Side Flats             44.140934\n",
      "Carrick                      29.809976\n",
      "Homewood South               26.543943\n",
      "East Allegheny               26.266825\n",
      "Homewood North               23.119557\n",
      "East Liberty                 22.367379\n",
      "Marshall-Shadeland           19.734759\n",
      "Mount Washington             19.319082\n",
      "Bluff                        17.319873\n",
      "Knoxville                    17.220903\n",
      "Hazelwood                    16.231196\n",
      "Brookline                    15.973872\n",
      "Lincoln-Lemington-Belmar     15.874901\n",
      "Sheraden                     15.577989\n",
      "Beechview                    15.300871\n",
      "Perry South                  14.885194\n",
      "Brighton Heights             14.152811\n",
      "Allegheny Center             13.915281\n",
      "Shadyside                    13.262074\n",
      "Middle Hill                  13.064133\n",
      "East Hills                   13.044339\n",
      "Allentown                    12.589074\n",
      "Bloomfield                   12.470309\n",
      "Larimer                      11.302454\n",
      "Fineview                     10.847189\n",
      "Crawford-Roberts             10.570071\n",
      "North Shore                  10.292953\n",
      "South Side Slopes            10.253365\n",
      "Squirrel Hill South          10.193983\n",
      "Spring Hill-City View         9.639747\n",
      "Garfield                      9.540776\n",
      "Homewood West                 9.105305\n",
      "Perry North                   9.006334\n",
      "Northview Heights             8.709422\n",
      "Elliott                       8.016627\n",
      "Bedford Dwellings             7.996833\n",
      "Beltzhoover                   7.521774\n",
      "Central Oakland               7.165479\n",
      "Highland Park                 6.789390\n",
      "Manchester                    6.631037\n",
      "Central Lawrenceville         6.611243\n",
      "Strip District                6.532067\n",
      "Crafton Heights               6.472684\n",
      "Greenfield                    6.314331\n",
      "Troy Hill                     6.215360\n",
      "Chateau                       6.195566\n",
      "North Oakland                 5.225653\n",
      "Upper Hill                    4.928741\n",
      "Point Breeze                  4.453682\n",
      "Squirrel Hill North           4.196358\n",
      "West Oakland                  4.156770\n",
      "South Oakland                 4.136975\n",
      "Overbrook                     4.077593\n",
      "Arlington                     4.038005\n",
      "California-Kirkbride          3.721298\n",
      "Terrace Village               3.543151\n",
      "Spring Garden                 3.463975\n",
      "Lower Lawrenceville           3.424386\n",
      "South Shore                   3.424386\n",
      "Point Breeze North            3.365004\n",
      "Banksville                    3.365004\n",
      "West End                      3.305622\n",
      "Westwood                      2.889945\n",
      "Upper Lawrenceville           2.771180\n",
      "Bon Air                       2.751386\n",
      "Stanton Heights               2.652415\n",
      "Duquesne Heights              2.474268\n",
      "Morningside                   2.474268\n",
      "Friendship                    2.355503\n",
      "Esplen                        2.276326\n",
      "Polish Hill                   2.216944\n",
      "Lincoln Place                 2.197150\n",
      "Arlington Heights             2.197150\n",
      "Central Northside             1.999208\n",
      "Allegheny West                1.939826\n",
      "Mt. Oliver                    1.900238\n",
      "Glen Hazel                    1.860649\n",
      "Windgap                       1.425178\n",
      "Fairywood                     1.385590\n",
      "Hays                          1.326207\n",
      "East Carnegie                 1.108472\n",
      "Summer Hill                   1.029295\n",
      "Oakwood                       0.969913\n",
      "New Homestead                 0.930325\n",
      "Swisshelm Park                0.851148\n",
      "St. Clair                     0.712589\n",
      "Ridgemont                     0.574030\n",
      "Chartiers City                0.514648\n",
      "Regent Square                 0.455265\n"
     ]
    },
    {
     "data": {
      "image/png": "[encoded data removed]",
      "text/plain": [
       "<Figure size 432x288 with 1 Axes>"
      ]
     },
     "metadata": {
      "needs_background": "light"
     },
     "output_type": "display_data"
    }
   ],
   "source": [
    "array = list(scores.values())\n",
    "array.sort(reverse=True)\n",
    "ratio = 50/array[0]\n",
    "\n",
    "for key in scores:\n",
    "    scores[key] = scores[key] * ratio\n",
    "s = pd.Series(scores, name=\"Score\")\n",
    "s.index.name = \"Neighborhood\"\n",
    "s.sort_values(ascending = True).iloc[0:10].plot('bar') \n",
    "print(s.sort_values(ascending = False).to_string())"
   ]
  },
  {
   "cell_type": "code",
   "execution_count": null,
   "metadata": {},
   "outputs": [],
   "source": []
  }
 ],
 "metadata": {
  "kernelspec": {
   "display_name": "Python 3.7",
   "language": "python",
   "name": "python3"
  },
  "language_info": {
   "codemirror_mode": {
    "name": "ipython",
    "version": 3
   },
   "file_extension": ".py",
   "mimetype": "text/x-python",
   "name": "python",
   "nbconvert_exporter": "python",
   "pygments_lexer": "ipython3",
   "version": "3.7.0"
  }
 },
 "nbformat": 4,
 "nbformat_minor": 4
}
