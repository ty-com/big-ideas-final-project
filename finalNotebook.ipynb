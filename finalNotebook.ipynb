{
 "cells": [
  {
   "cell_type": "markdown",
   "metadata": {},
   "source": [
    "# **Final Project**\n",
    "#### Team: *Safety First*\n",
    "##### Sarah, Eshwar, Tyler"
   ]
  },
  {
   "cell_type": "markdown",
   "metadata": {},
   "source": [
    "## **Introduction**"
   ]
  },
  {
   "cell_type": "markdown",
   "metadata": {},
   "source": [
    "\n",
    "   Our final project is to determine the best neighborhood in Pittsburgh. This is being found by using a formula we created to take in our different data and factors and then in return, spit out a 'grade' for the neighborhood. \n",
    "### The Metrics\n",
    "   The grade is determined by two factors, safety and beauty. These are further broken down into smaller areas of data, such as number of arrests, police reports, and firearm seizures. As well as number of 'smart trashcans' and number of organizations that contribute to 'beautifying the burgh.' \n",
    "    \n",
    "   These numbers are put into a formula where we find averages and create an overall weight to each factor, then give each neighborhood a 'score' based on how many safety incidents they have and how many beautifying programs they have.\n",
    "## The Data\n",
    "   The data sets used:\n",
    "   <ul>\n",
    "    <li>https://data.wprdc.org/dataset/fire-incidents-in-city-of-pittsburgh </li>\n",
    "    <li>https://data.wprdc.org/dataset/police-incident-blotter </li>\n",
    "    <li>https://data.wprdc.org/dataset/pbp-fire-arm-seizures </li>\n",
    "    <li>https://data.wprdc.org/dataset/arrest-data </li>\n",
    "</ul>"
   ]
  },
  {
   "cell_type": "markdown",
   "metadata": {},
   "source": [
    "## The Code"
   ]
  },
  {
   "cell_type": "markdown",
   "metadata": {},
   "source": [
    "The code below shows our process of bringing in the data sets, and sorting through them. For each data set we went through and made sure each neighborhood was identified correctly and counted for. For example, \"Mt. Oliver\" vs. \"Mount Oliver\" and other variations like that. \n",
    "Each neighborhood started with a score of 0, and got one point added for each time the neighborhood was reported in the safety data sets.\n",
    "Then it was sorted and a graph is shown, highlighting the ten highest scores. "
   ]
  },
  {
   "cell_type": "code",
   "execution_count": 18,
   "metadata": {},
   "outputs": [
    {
     "data": {
      "text/plain": [
       "<matplotlib.axes._subplots.AxesSubplot at 0x7f876828dd68>"
      ]
     },
     "execution_count": 18,
     "metadata": {},
     "output_type": "execute_result"
    },
    {
     "data": {
      "image/png": "[encoded data removed]",
      "text/plain": [
       "<Figure size 432x288 with 1 Axes>"
      ]
     },
     "metadata": {
      "needs_background": "light"
     },
     "output_type": "display_data"
    }
   ],
   "source": [
    "import pandas as pd\n",
    "\n",
    "neighborhoods = pd.read_csv(\"Neighborhoods.csv\")\n",
    "hoodsdict = neighborhoods['hood'].value_counts().to_dict()\n",
    "neighborhoods.set_index('hood')\n",
    "#print(neighborhoods[neighborhoods.hood == \"West End\"]['sqmiles'])\n",
    "\n",
    "fire = pd.read_csv(\"fire-incidents.csv\")\n",
    "firedict = fire['neighborhood'].value_counts().to_dict()\n",
    "\n",
    "arrest = pd.read_csv(\"arrest-data.csv\")\n",
    "arrestdict = arrest['INCIDENTNEIGHBORHOOD'].value_counts().to_dict()\n",
    "\n",
    "policeblotter = pd.read_csv(\"police-blotter.csv\")\n",
    "policedict = policeblotter['INCIDENTNEIGHBORHOOD'].value_counts().to_dict()\n",
    "\n",
    "scores = hoodsdict\n",
    "\n",
    "#this section of for loops cleans the data to make sure all of the neighborhoods have the same name for every dataset\n",
    "for key in arrestdict:\n",
    "    if key == 'Mt. Oliver Neighborhood':\n",
    "        arrestdict['Mt. Oliver'] = arrestdict.pop(key)\n",
    "        break\n",
    "        \n",
    "for key in arrestdict:\n",
    "    if key == 'Mount Oliver':\n",
    "        arrestdict['Mt. Oliver'] = arrestdict['Mt. Oliver'] + arrestdict.pop(key)\n",
    "        break\n",
    "        \n",
    "for key in policedict:\n",
    "    if key == 'Mount Oliver':\n",
    "        policedict['Mt. Oliver'] = policedict.pop(key)\n",
    "        \n",
    "for key in policedict:\n",
    "    if key == 'Central North Side':\n",
    "        policedict['Central Northside'] = policedict.pop(key)\n",
    "\n",
    "#combines single neighborhoods that were separated into one neighborhood\n",
    "arrestdict['Troy Hill'] = arrestdict['Troy Hill'] + arrestdict.pop('Troy Hill-Herrs Island')\n",
    "arrestdict['Central Business District'] = arrestdict['Central Business District'] + arrestdict.pop('Golden Triangle/Civic Arena')\n",
    "\n",
    "#this section of for loops finds each instance of each neighborhood in a dataset and adds its value to the overall score\n",
    "for key in firedict:\n",
    "    if key in scores:\n",
    "        scores[key] = scores[key] + firedict[key]\n",
    "\n",
    "for key in arrestdict:\n",
    "    if key in scores:\n",
    "        scores[key] = scores[key] + arrestdict[key]\n",
    "\n",
    "for key in policedict:\n",
    "    if key in scores:\n",
    "        scores[key] = scores[key] + policedict[key]\n",
    "array = list(scores.values())\n",
    "array.sort(reverse=True)\n",
    "ratio = 50/array[0]\n",
    "\n",
    "for key in scores:\n",
    "    scores[key] = scores[key] * ratio\n",
    "s = pd.Series(scores, name=\"Score\")\n",
    "s.index.name = \"Neighborhood\"\n",
    "s.sort_values().iloc[0:10].plot('bar', title = \"Lowest Crime Neighborhoods\") #sorts the scores by lowest first, then plots the lowest 10 onto a bar graph"
   ]
  },
  {
   "cell_type": "markdown",
   "metadata": {},
   "source": [
    "## More Code"
   ]
  },
  {
   "cell_type": "markdown",
   "metadata": {},
   "source": [
    "In this next part of code, we basically did the same thing with the smart trash cans, and the data set that contains a list of organizations in the neighborhood dedicated to keeping it clean.\n",
    "It went through the same process of 'cleaning' the names up, then giving them their scores by looping through the data sets looking for the keys to add a point.\n",
    "Then, again, it was graphed and displayed to show the ten highest scoring neighborhoods for the cleanliness aspect."
   ]
  },
  {
   "cell_type": "code",
   "execution_count": 19,
   "metadata": {},
   "outputs": [
    {
     "data": {
      "text/plain": [
       "<matplotlib.axes._subplots.AxesSubplot at 0x7f876782db38>"
      ]
     },
     "execution_count": 19,
     "metadata": {},
     "output_type": "execute_result"
    },
    {
     "data": {
      "image/png": "[encoded data removed]",
      "text/plain": [
       "<Figure size 432x288 with 1 Axes>"
      ]
     },
     "metadata": {
      "needs_background": "light"
     },
     "output_type": "display_data"
    }
   ],
   "source": [
    "neighborhoods = pd.read_csv(\"Neighborhoods.csv\")\n",
    "hoodsDict = neighborhoods['hood'].value_counts().to_dict()\n",
    "neighborhoods.set_index('hood')\n",
    "smartTrash = pd.read_csv(\"smart-trash.csv\")\n",
    "smartTrashDict = smartTrash['neighborhood'].value_counts().to_dict()\n",
    "\n",
    "beauty = pd.read_csv(\"BeautifyBurgh.csv\")\n",
    "beautyDict = beauty['Neighborhood'].value_counts().to_dict()\n",
    "\n",
    "scoresBeauty = hoodsDict\n",
    "\n",
    "#this section of for loops cleans the data to make sure all of the neighborhoods have the same name for every dataset\n",
    "for key in beautyDict:\n",
    "    if key.startswith('North Point'):\n",
    "        beautyDict['Point Breeze'] = beautyDict.pop(key)\n",
    "        break\n",
    "\n",
    "#this section of for loops finds each instance of each neighborhood in a dataset and adds its value to the overall score\n",
    "for key in smartTrashDict:\n",
    "    if key in scoresBeauty:\n",
    "        scoresBeauty[key] = scoresBeauty[key] + smartTrashDict[key]\n",
    "\n",
    "for key in beautyDict:\n",
    "    if key in scoresBeauty:\n",
    "        scoresBeauty[key] = scoresBeauty[key] + beautyDict[key]\n",
    "\n",
    "array = list(scoresBeauty.values())\n",
    "array.sort(reverse=True)\n",
    "ratio = 50/array[0]\n",
    "\n",
    "for key in scoresBeauty:\n",
    "    scoresBeauty[key] = scoresBeauty[key] * ratio\n",
    "    \n",
    "s = pd.Series(scoresBeauty, name=\"Score\")\n",
    "s.index.name = \"Neighborhood\"\n",
    "s.sort_values(ascending = False).iloc[0:10].plot('bar') #sorts the scores by highest first, then plots the top 10 onto a bar graph"
   ]
  },
  {
   "cell_type": "markdown",
   "metadata": {},
   "source": [
    "## Final Code"
   ]
  },
  {
   "cell_type": "markdown",
   "metadata": {},
   "source": [
    "In this final part, we make the scores 50 as a base line, then add points if they had the beauty programs, and subtracted their score from the safety incidents.\n",
    "In the end, we displayed it using a final bar graph that highlights the actual best scores. "
   ]
  },
  {
   "cell_type": "code",
   "execution_count": 20,
   "metadata": {},
   "outputs": [
    {
     "data": {
      "text/plain": [
       "Neighborhood\n",
       "North Shore              84.202166\n",
       "Strip District           82.330407\n",
       "Bloomfield               81.891678\n",
       "Central Oakland          80.251942\n",
       "East Liberty             75.241481\n",
       "Squirrel Hill South      72.505620\n",
       "Lower Lawrenceville      68.859195\n",
       "Shadyside                66.126394\n",
       "Central Lawrenceville    64.888941\n",
       "Middle Hill              62.871125\n",
       "Name: Score, dtype: float64"
      ]
     },
     "execution_count": 20,
     "metadata": {},
     "output_type": "execute_result"
    },
    {
     "data": {
      "image/png": "[encoded data removed]",
      "text/plain": [
       "<Figure size 432x288 with 1 Axes>"
      ]
     },
     "metadata": {
      "needs_background": "light"
     },
     "output_type": "display_data"
    }
   ],
   "source": [
    "totalScores = scores\n",
    "for key in scores:\n",
    "    totalScores[key] = 50 + scoresBeauty[key] - scores[key]\n",
    "\n",
    "s = pd.Series(totalScores, name=\"Score\")\n",
    "s.index.name = \"Neighborhood\"\n",
    "isSorted = s.sort_values(ascending = False)\n",
    "isSorted.iloc[0:10].plot('bar', title = \"Best Neighborhoods\")\n",
    "isSorted.head(10)"
   ]
  },
  {
   "cell_type": "markdown",
   "metadata": {},
   "source": [
    "<h2>Conclusion</h2>\n",
    "\n",
    "According to our data, the best neighborhood is the North Shore with a score of about 84 points.\n",
    "![North Shore](http://www.post-gazette.com/image/2015/10/08/ca6,0,2210,1160/92l00kmt-JPG-1.JPG)\n",
    "The runner-up is the Strip District, with about 82 points.\n",
    "![Strip District](http://www.seriouseats.com/images/2016/03/20160229-pittsburgh-adam-milliron-3.jpg)"
   ]
  },
  {
   "cell_type": "code",
   "execution_count": null,
   "metadata": {},
   "outputs": [],
   "source": []
  }
 ],
 "metadata": {
  "kernelspec": {
   "display_name": "Python 3.7",
   "language": "python",
   "name": "python3"
  },
  "language_info": {
   "codemirror_mode": {
    "name": "ipython",
    "version": 3
   },
   "file_extension": ".py",
   "mimetype": "text/x-python",
   "name": "python",
   "nbconvert_exporter": "python",
   "pygments_lexer": "ipython3",
   "version": "3.7.0"
  }
 },
 "nbformat": 4,
 "nbformat_minor": 4
}
