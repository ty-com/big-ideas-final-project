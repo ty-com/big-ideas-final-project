{
 "cells": [
  {
   "cell_type": "markdown",
   "metadata": {},
   "source": [
    "Datasets Used:\n",
    "<ul>\n",
    "    <li>https://data.wprdc.org/dataset/fire-incidents-in-city-of-pittsburgh Weight:</li>\n",
    "    <li>https://data.wprdc.org/dataset/police-incident-blotter Weight: </li>\n",
    "    <li>https://data.wprdc.org/dataset/pbp-fire-arm-seizures Weight: </li>\n",
    "    <li>https://data.wprdc.org/dataset/arrest-data Weight: </li>\n",
    "    <li>https://data.wprdc.org/dataset/landslide-prone-areas geojson</li>\n",
    "    <li>https://data.wprdc.org/dataset/allegheny-county-fatal-accidental-overdoses sorted by zip</li>\n",
    "    <li>https://data.wprdc.org/dataset/hospitals</li>\n",
    "</ul>\n",
    "Intro: <br>\n",
    "Our 'best' neighborhood is being calculated by the safety of the neighborhood. This is determined by data such as fire incidents, arrests, fire arm seizures, and police incidents. Each neighborhood is given a percent score based on the number of occurences in that neighborhood, and then the overall percent is multiplied by a weight based on the importance of that dataset. There are also negative scores for data such as hospitals. The 'best' neighborhood will have the lowest score."
   ]
  },
  {
   "cell_type": "code",
   "execution_count": 1,
   "metadata": {},
   "outputs": [],
   "source": [
    "import pandas as pd"
   ]
  },
  {
   "cell_type": "code",
   "execution_count": 7,
   "metadata": {},
   "outputs": [
    {
     "name": "stdout",
     "output_type": "stream",
     "text": [
      "86    0.2\n",
      "Name: sqmiles, dtype: float64\n"
     ]
    },
    {
     "data": {
      "text/plain": [
       "Neighborhood\n",
       "Regent Square     28\n",
       "Ridgemont         29\n",
       "Chartiers City    35\n",
       "Swisshelm Park    35\n",
       "East Carnegie     36\n",
       "Name: Score, dtype: int64"
      ]
     },
     "execution_count": 7,
     "metadata": {},
     "output_type": "execute_result"
    }
   ],
   "source": [
    "neighborhoods = pd.read_csv(\"Neighborhoods.csv\")\n",
    "hoodsdict = neighborhoods['hood'].value_counts().to_dict()\n",
    "neighborhoods.set_index('hood')\n",
    "print(neighborhoods[neighborhoods.hood == \"West End\"]['sqmiles'])\n",
    "\n",
    "fire = pd.read_csv(\"fire-incidents.csv\")\n",
    "firedict = fire['neighborhood'].value_counts().to_dict()\n",
    "\n",
    "arrest = pd.read_csv(\"arrest-data.csv\")\n",
    "arrestdict = arrest['INCIDENTNEIGHBORHOOD'].value_counts().to_dict()\n",
    "\n",
    "policeblotter = pd.read_csv(\"police-blotter.csv\")\n",
    "policedict = policeblotter['INCIDENTNEIGHBORHOOD'].value_counts().to_dict()\n",
    "\n",
    "scores = hoodsdict\n",
    "\n",
    "for key in firedict:\n",
    "    if key in scores:\n",
    "        scores[key] = scores[key] + firedict[key]\n",
    "    else:\n",
    "        scores[key] = firedict[key]\n",
    "\n",
    "for key in arrestdict:\n",
    "    if key in scores:\n",
    "        scores[key] = scores[key] + arrestdict[key]\n",
    "    else:\n",
    "        scores[key] = arrestdict[key]\n",
    "        \n",
    "for key in policedict:\n",
    "    if key in scores:\n",
    "        scores[key] = scores[key] + policedict[key]\n",
    "    else:\n",
    "        scores[key] = policedict[key]\n",
    "        \n",
    "#cleaning the dictionary, combining duplicates and getting rid of non-pittsburgh neighborhoods\n",
    "scores['Mt. Oliver'] = scores['Mt. Oliver Neighborhood'] + scores['Mt. Oliver Neighborhood'] + scores['Mount Oliver']\n",
    "scores['Central Business District'] = scores['Central Business District'] + scores['Golden Triangle/Civic Arena']\n",
    "scores['Central Northside'] = scores['Central Northside'] + scores['Central North Side']\n",
    "scores['Troy Hill'] = scores['Troy Hill'] + scores['Troy Hill-Herrs Island']\n",
    "del scores['Troy Hill-Herrs Island']\n",
    "del scores['Central North Side']\n",
    "del scores['Golden Triangle/Civic Arena']\n",
    "del scores['Mt. Oliver Neighborhood']\n",
    "del scores['Mount Oliver']\n",
    "del scores['Mt. Oliver Boro']\n",
    "del scores['Mount Oliver Borough']\n",
    "del scores['Outside County']\n",
    "del scores['Outside State']\n",
    "del scores['Outside City']\n",
    "\n",
    "#for key in scores:\n",
    "    #scores[key] = scores[key] / neighborhoods[neighborhoods.hood == key]['sqmiles']\n",
    "\n",
    "s = pd.Series(scores, name=\"Score\")\n",
    "s.index.name = \"Neighborhood\"\n",
    "s.sort_values().head()"
   ]
  },
  {
   "cell_type": "code",
   "execution_count": null,
   "metadata": {},
   "outputs": [],
   "source": []
  }
 ],
 "metadata": {
  "kernelspec": {
   "display_name": "Python 3.7",
   "language": "python",
   "name": "python3"
  },
  "language_info": {
   "codemirror_mode": {
    "name": "ipython",
    "version": 3
   },
   "file_extension": ".py",
   "mimetype": "text/x-python",
   "name": "python",
   "nbconvert_exporter": "python",
   "pygments_lexer": "ipython3",
   "version": "3.7.0"
  }
 },
 "nbformat": 4,
 "nbformat_minor": 4
}
