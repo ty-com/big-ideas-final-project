{
 "cells": [
  {
   "cell_type": "markdown",
   "metadata": {},
   "source": [
    "Datasets Used:\n",
    "<ul>\n",
    "    <li>https://data.wprdc.org/dataset/fire-incidents-in-city-of-pittsburgh Weight:</li>\n",
    "    <li>https://data.wprdc.org/dataset/police-incident-blotter Weight: </li>\n",
    "    <li>https://data.wprdc.org/dataset/pbp-fire-arm-seizures Weight: </li>\n",
    "    <li>https://data.wprdc.org/dataset/arrest-data Weight: </li>\n",
    "</ul>\n",
    "Intro: <br>\n",
    "Our 'best' neighborhood is being calculated by the safety of the neighborhood. This is determined by data such as fire incidents, arrests, fire arm seizures, and police incidents. Each neighborhood is given a percent score based on the number of occurences in that neighborhood, and then the overall percent is multiplied by a weight based on the importance of that dataset. There are also negative scores for data such as hospitals. The 'best' neighborhood will have the lowest score."
   ]
  },
  {
   "cell_type": "code",
   "execution_count": 11,
   "metadata": {},
   "outputs": [],
   "source": [
    "import pandas as pd"
   ]
  },
  {
   "cell_type": "code",
   "execution_count": 103,
   "metadata": {},
   "outputs": [
    {
     "data": {
      "text/plain": [
       "<matplotlib.axes._subplots.AxesSubplot at 0x7fd77e366ef0>"
      ]
     },
     "execution_count": 103,
     "metadata": {},
     "output_type": "execute_result"
    },
    {
     "data": {
      "image/png": "[encoded data removed]",
      "text/plain": [
       "<Figure size 432x288 with 1 Axes>"
      ]
     },
     "metadata": {
      "needs_background": "light"
     },
     "output_type": "display_data"
    }
   ],
   "source": [
    "neighborhoods = pd.read_csv(\"Neighborhoods.csv\")\n",
    "hoodsdict = neighborhoods['hood'].value_counts().to_dict()\n",
    "neighborhoods.set_index('hood')\n",
    "#print(neighborhoods[neighborhoods.hood == \"West End\"]['sqmiles'])\n",
    "\n",
    "fire = pd.read_csv(\"fire-incidents.csv\")\n",
    "firedict = fire['neighborhood'].value_counts().to_dict()\n",
    "\n",
    "arrest = pd.read_csv(\"arrest-data.csv\")\n",
    "arrestdict = arrest['INCIDENTNEIGHBORHOOD'].value_counts().to_dict()\n",
    "\n",
    "policeblotter = pd.read_csv(\"police-blotter.csv\")\n",
    "policedict = policeblotter['INCIDENTNEIGHBORHOOD'].value_counts().to_dict()\n",
    "\n",
    "scores = hoodsdict\n",
    "\n",
    "#this section of for loops cleans the data to make sure all of the neighborhoods have the same name for every dataset\n",
    "for key in arrestdict:\n",
    "    if key == 'Mt. Oliver Neighborhood':\n",
    "        arrestdict['Mt. Oliver'] = arrestdict.pop(key)\n",
    "        break\n",
    "        \n",
    "for key in arrestdict:\n",
    "    if key == 'Mount Oliver':\n",
    "        arrestdict['Mt. Oliver'] = arrestdict['Mt. Oliver'] + arrestdict.pop(key)\n",
    "        break\n",
    "        \n",
    "for key in policedict:\n",
    "    if key == 'Mount Oliver':\n",
    "        policedict['Mt. Oliver'] = policedict.pop(key)\n",
    "        \n",
    "for key in policedict:\n",
    "    if key == 'Central North Side':\n",
    "        policedict['Central Northside'] = policedict.pop(key)\n",
    "\n",
    "#combines single neighborhoods that were separated into one neighborhood\n",
    "arrestdict['Troy Hill'] = arrestdict['Troy Hill'] + arrestdict.pop('Troy Hill-Herrs Island')\n",
    "arrestdict['Central Business District'] = arrestdict['Central Business District'] + arrestdict.pop('Golden Triangle/Civic Arena')\n",
    "\n",
    "#this section of for loops finds each instance of each neighborhood in a dataset and adds its value to the overall score\n",
    "for key in firedict:\n",
    "    if key in scores:\n",
    "        scores[key] = scores[key] + firedict[key]\n",
    "    else:\n",
    "        scores[key] = firedict[key]\n",
    "\n",
    "for key in arrestdict:\n",
    "    if key in scores:\n",
    "        scores[key] = scores[key] + arrestdict[key]\n",
    "    else:\n",
    "        scores[key] = arrestdict[key]\n",
    "        \n",
    "for key in policedict:\n",
    "    if key in scores:\n",
    "        scores[key] = scores[key] + policedict[key]\n",
    "    else:\n",
    "        scores[key] = policedict[key]\n",
    "        \n",
    "#removes 'neighborhoods' that are not actually neighborhoods in Pittsburgh\n",
    "del scores['Mt. Oliver Boro']\n",
    "del scores['Mount Oliver Borough']\n",
    "del scores['Outside County']\n",
    "del scores['Outside State']\n",
    "del scores['Outside City']\n",
    "\n",
    "s = pd.Series(scores, name=\"Score\")\n",
    "s.index.name = \"Neighborhood\"\n",
    "s.sort_values().iloc[0:10].plot('bar') #sorts the scores by lowest first, then plots the lowest 10 onto a bar graph"
   ]
  },
  {
   "cell_type": "code",
   "execution_count": null,
   "metadata": {},
   "outputs": [],
   "source": []
  }
 ],
 "metadata": {
  "kernelspec": {
   "display_name": "Python 3.7",
   "language": "python",
   "name": "python3"
  },
  "language_info": {
   "codemirror_mode": {
    "name": "ipython",
    "version": 3
   },
   "file_extension": ".py",
   "mimetype": "text/x-python",
   "name": "python",
   "nbconvert_exporter": "python",
   "pygments_lexer": "ipython3",
   "version": "3.7.0"
  }
 },
 "nbformat": 4,
 "nbformat_minor": 4
}
